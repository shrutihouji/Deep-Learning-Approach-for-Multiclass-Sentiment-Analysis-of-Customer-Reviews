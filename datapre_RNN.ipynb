{
  "nbformat": 4,
  "nbformat_minor": 0,
  "metadata": {
    "colab": {
      "provenance": []
    },
    "kernelspec": {
      "name": "python3",
      "display_name": "Python 3"
    },
    "language_info": {
      "name": "python"
    },
    "gpuClass": "standard"
  },
  "cells": [
    {
      "cell_type": "code",
      "execution_count": 1,
      "metadata": {
        "id": "HL3qGHlI_DoA"
      },
      "outputs": [],
      "source": [
        "# Importing important libraries\n",
        "import pandas as pd\n",
        "import seaborn as sns\n",
        "from textblob import TextBlob\n",
        "from sklearn.model_selection import train_test_split\n",
        "import nltk\n",
        "from gensim.models import Word2Vec\n",
        "import os\n",
        "import numpy as np\n",
        "import matplotlib.pyplot as plt\n",
        "from collections import Counter\n",
        "from nltk.corpus import stopwords\n",
        "from wordcloud import WordCloud, STOPWORDS"
      ]
    },
    {
      "cell_type": "code",
      "source": [
        "from google.colab import drive\n",
        "drive.mount('/content/drive')"
      ],
      "metadata": {
        "colab": {
          "base_uri": "https://localhost:8080/"
        },
        "id": "lorrXlIKgJ_h",
        "outputId": "3c4ac3c6-e6d8-4c7b-c8ed-717c147c097c"
      },
      "execution_count": 2,
      "outputs": [
        {
          "output_type": "stream",
          "name": "stdout",
          "text": [
            "Drive already mounted at /content/drive; to attempt to forcibly remount, call drive.mount(\"/content/drive\", force_remount=True).\n"
          ]
        }
      ]
    },
    {
      "cell_type": "code",
      "source": [
        "# Reading csv file into dataframe\n",
        "reviews = pd.read_csv(\"/content/drive/MyDrive/updated_mobile_reviews_lang_new.csv\",index_col=False)"
      ],
      "metadata": {
        "colab": {
          "base_uri": "https://localhost:8080/"
        },
        "id": "nLptZIoGB4M-",
        "outputId": "5c641dbb-37e5-429f-98ae-243724fe49e2"
      },
      "execution_count": 3,
      "outputs": [
        {
          "output_type": "stream",
          "name": "stderr",
          "text": [
            "<ipython-input-3-7899bef05eff>:2: DtypeWarning: Columns (5) have mixed types. Specify dtype option on import or set low_memory=False.\n",
            "  reviews = pd.read_csv(\"/content/drive/MyDrive/updated_mobile_reviews_lang_new.csv\",index_col=False)\n"
          ]
        }
      ]
    },
    {
      "cell_type": "code",
      "source": [
        "reviews.shape"
      ],
      "metadata": {
        "colab": {
          "base_uri": "https://localhost:8080/"
        },
        "id": "omIRrZzdHxby",
        "outputId": "8004996d-be65-46ad-ad04-8487eca23305"
      },
      "execution_count": 4,
      "outputs": [
        {
          "output_type": "execute_result",
          "data": {
            "text/plain": [
              "(82816, 11)"
            ]
          },
          "metadata": {},
          "execution_count": 4
        }
      ]
    },
    {
      "cell_type": "code",
      "source": [
        "reviews.head()"
      ],
      "metadata": {
        "colab": {
          "base_uri": "https://localhost:8080/",
          "height": 469
        },
        "id": "VFfjt7T0H2QU",
        "outputId": "206a4cb0-ebba-4a4f-867d-898e906f0399"
      },
      "execution_count": 5,
      "outputs": [
        {
          "output_type": "execute_result",
          "data": {
            "text/plain": [
              "   Unnamed: 0        asin           name  rating               date verified  \\\n",
              "0         0.0  B0000SX2UC          Janet     3.0   October 11, 2005    False   \n",
              "1         1.0  B0000SX2UC     Luke Wyatt     1.0    January 7, 2004    False   \n",
              "2         2.0  B0000SX2UC         Brooke     5.0  December 30, 2003    False   \n",
              "3         3.0  B0000SX2UC  amy m. teague     3.0     March 18, 2004    False   \n",
              "4         4.0  B0000SX2UC  tristazbimmer     4.0    August 28, 2005    False   \n",
              "\n",
              "                                          title title_lang  \\\n",
              "0                   Def not best, but not worst         en   \n",
              "1                   Text Messaging Doesn't Work         en   \n",
              "2                               Love This Phone         en   \n",
              "3                       Love the Phone, BUT...!         en   \n",
              "4  Great phone service and options, lousy case!         en   \n",
              "\n",
              "                                                body body_lang  helpfulVotes  \n",
              "0  I had the Samsung A600 for awhile which is abs...        en           1.0  \n",
              "1  Due to a software issue between Nokia and Spri...        en          17.0  \n",
              "2  This is a great, reliable phone. I also purcha...        en           5.0  \n",
              "3  I love the phone and all, because I really did...        en           1.0  \n",
              "4  The phone has been great for every purpose it ...        en           1.0  "
            ],
            "text/html": [
              "\n",
              "  <div id=\"df-4ff653b9-971e-408f-b305-d1253fa965f8\">\n",
              "    <div class=\"colab-df-container\">\n",
              "      <div>\n",
              "<style scoped>\n",
              "    .dataframe tbody tr th:only-of-type {\n",
              "        vertical-align: middle;\n",
              "    }\n",
              "\n",
              "    .dataframe tbody tr th {\n",
              "        vertical-align: top;\n",
              "    }\n",
              "\n",
              "    .dataframe thead th {\n",
              "        text-align: right;\n",
              "    }\n",
              "</style>\n",
              "<table border=\"1\" class=\"dataframe\">\n",
              "  <thead>\n",
              "    <tr style=\"text-align: right;\">\n",
              "      <th></th>\n",
              "      <th>Unnamed: 0</th>\n",
              "      <th>asin</th>\n",
              "      <th>name</th>\n",
              "      <th>rating</th>\n",
              "      <th>date</th>\n",
              "      <th>verified</th>\n",
              "      <th>title</th>\n",
              "      <th>title_lang</th>\n",
              "      <th>body</th>\n",
              "      <th>body_lang</th>\n",
              "      <th>helpfulVotes</th>\n",
              "    </tr>\n",
              "  </thead>\n",
              "  <tbody>\n",
              "    <tr>\n",
              "      <th>0</th>\n",
              "      <td>0.0</td>\n",
              "      <td>B0000SX2UC</td>\n",
              "      <td>Janet</td>\n",
              "      <td>3.0</td>\n",
              "      <td>October 11, 2005</td>\n",
              "      <td>False</td>\n",
              "      <td>Def not best, but not worst</td>\n",
              "      <td>en</td>\n",
              "      <td>I had the Samsung A600 for awhile which is abs...</td>\n",
              "      <td>en</td>\n",
              "      <td>1.0</td>\n",
              "    </tr>\n",
              "    <tr>\n",
              "      <th>1</th>\n",
              "      <td>1.0</td>\n",
              "      <td>B0000SX2UC</td>\n",
              "      <td>Luke Wyatt</td>\n",
              "      <td>1.0</td>\n",
              "      <td>January 7, 2004</td>\n",
              "      <td>False</td>\n",
              "      <td>Text Messaging Doesn't Work</td>\n",
              "      <td>en</td>\n",
              "      <td>Due to a software issue between Nokia and Spri...</td>\n",
              "      <td>en</td>\n",
              "      <td>17.0</td>\n",
              "    </tr>\n",
              "    <tr>\n",
              "      <th>2</th>\n",
              "      <td>2.0</td>\n",
              "      <td>B0000SX2UC</td>\n",
              "      <td>Brooke</td>\n",
              "      <td>5.0</td>\n",
              "      <td>December 30, 2003</td>\n",
              "      <td>False</td>\n",
              "      <td>Love This Phone</td>\n",
              "      <td>en</td>\n",
              "      <td>This is a great, reliable phone. I also purcha...</td>\n",
              "      <td>en</td>\n",
              "      <td>5.0</td>\n",
              "    </tr>\n",
              "    <tr>\n",
              "      <th>3</th>\n",
              "      <td>3.0</td>\n",
              "      <td>B0000SX2UC</td>\n",
              "      <td>amy m. teague</td>\n",
              "      <td>3.0</td>\n",
              "      <td>March 18, 2004</td>\n",
              "      <td>False</td>\n",
              "      <td>Love the Phone, BUT...!</td>\n",
              "      <td>en</td>\n",
              "      <td>I love the phone and all, because I really did...</td>\n",
              "      <td>en</td>\n",
              "      <td>1.0</td>\n",
              "    </tr>\n",
              "    <tr>\n",
              "      <th>4</th>\n",
              "      <td>4.0</td>\n",
              "      <td>B0000SX2UC</td>\n",
              "      <td>tristazbimmer</td>\n",
              "      <td>4.0</td>\n",
              "      <td>August 28, 2005</td>\n",
              "      <td>False</td>\n",
              "      <td>Great phone service and options, lousy case!</td>\n",
              "      <td>en</td>\n",
              "      <td>The phone has been great for every purpose it ...</td>\n",
              "      <td>en</td>\n",
              "      <td>1.0</td>\n",
              "    </tr>\n",
              "  </tbody>\n",
              "</table>\n",
              "</div>\n",
              "      <button class=\"colab-df-convert\" onclick=\"convertToInteractive('df-4ff653b9-971e-408f-b305-d1253fa965f8')\"\n",
              "              title=\"Convert this dataframe to an interactive table.\"\n",
              "              style=\"display:none;\">\n",
              "        \n",
              "  <svg xmlns=\"http://www.w3.org/2000/svg\" height=\"24px\"viewBox=\"0 0 24 24\"\n",
              "       width=\"24px\">\n",
              "    <path d=\"M0 0h24v24H0V0z\" fill=\"none\"/>\n",
              "    <path d=\"M18.56 5.44l.94 2.06.94-2.06 2.06-.94-2.06-.94-.94-2.06-.94 2.06-2.06.94zm-11 1L8.5 8.5l.94-2.06 2.06-.94-2.06-.94L8.5 2.5l-.94 2.06-2.06.94zm10 10l.94 2.06.94-2.06 2.06-.94-2.06-.94-.94-2.06-.94 2.06-2.06.94z\"/><path d=\"M17.41 7.96l-1.37-1.37c-.4-.4-.92-.59-1.43-.59-.52 0-1.04.2-1.43.59L10.3 9.45l-7.72 7.72c-.78.78-.78 2.05 0 2.83L4 21.41c.39.39.9.59 1.41.59.51 0 1.02-.2 1.41-.59l7.78-7.78 2.81-2.81c.8-.78.8-2.07 0-2.86zM5.41 20L4 18.59l7.72-7.72 1.47 1.35L5.41 20z\"/>\n",
              "  </svg>\n",
              "      </button>\n",
              "      \n",
              "  <style>\n",
              "    .colab-df-container {\n",
              "      display:flex;\n",
              "      flex-wrap:wrap;\n",
              "      gap: 12px;\n",
              "    }\n",
              "\n",
              "    .colab-df-convert {\n",
              "      background-color: #E8F0FE;\n",
              "      border: none;\n",
              "      border-radius: 50%;\n",
              "      cursor: pointer;\n",
              "      display: none;\n",
              "      fill: #1967D2;\n",
              "      height: 32px;\n",
              "      padding: 0 0 0 0;\n",
              "      width: 32px;\n",
              "    }\n",
              "\n",
              "    .colab-df-convert:hover {\n",
              "      background-color: #E2EBFA;\n",
              "      box-shadow: 0px 1px 2px rgba(60, 64, 67, 0.3), 0px 1px 3px 1px rgba(60, 64, 67, 0.15);\n",
              "      fill: #174EA6;\n",
              "    }\n",
              "\n",
              "    [theme=dark] .colab-df-convert {\n",
              "      background-color: #3B4455;\n",
              "      fill: #D2E3FC;\n",
              "    }\n",
              "\n",
              "    [theme=dark] .colab-df-convert:hover {\n",
              "      background-color: #434B5C;\n",
              "      box-shadow: 0px 1px 3px 1px rgba(0, 0, 0, 0.15);\n",
              "      filter: drop-shadow(0px 1px 2px rgba(0, 0, 0, 0.3));\n",
              "      fill: #FFFFFF;\n",
              "    }\n",
              "  </style>\n",
              "\n",
              "      <script>\n",
              "        const buttonEl =\n",
              "          document.querySelector('#df-4ff653b9-971e-408f-b305-d1253fa965f8 button.colab-df-convert');\n",
              "        buttonEl.style.display =\n",
              "          google.colab.kernel.accessAllowed ? 'block' : 'none';\n",
              "\n",
              "        async function convertToInteractive(key) {\n",
              "          const element = document.querySelector('#df-4ff653b9-971e-408f-b305-d1253fa965f8');\n",
              "          const dataTable =\n",
              "            await google.colab.kernel.invokeFunction('convertToInteractive',\n",
              "                                                     [key], {});\n",
              "          if (!dataTable) return;\n",
              "\n",
              "          const docLinkHtml = 'Like what you see? Visit the ' +\n",
              "            '<a target=\"_blank\" href=https://colab.research.google.com/notebooks/data_table.ipynb>data table notebook</a>'\n",
              "            + ' to learn more about interactive tables.';\n",
              "          element.innerHTML = '';\n",
              "          dataTable['output_type'] = 'display_data';\n",
              "          await google.colab.output.renderOutput(dataTable, element);\n",
              "          const docLink = document.createElement('div');\n",
              "          docLink.innerHTML = docLinkHtml;\n",
              "          element.appendChild(docLink);\n",
              "        }\n",
              "      </script>\n",
              "    </div>\n",
              "  </div>\n",
              "  "
            ]
          },
          "metadata": {},
          "execution_count": 5
        }
      ]
    },
    {
      "cell_type": "code",
      "source": [
        "# Selecting only those reviews that have either the title or body or both in english language\n",
        "reviews = reviews[(reviews['title_lang'] == 'en') | (reviews['body_lang'] == 'en')]\n",
        "reviews.shape"
      ],
      "metadata": {
        "colab": {
          "base_uri": "https://localhost:8080/"
        },
        "id": "yaNowOW2H51c",
        "outputId": "8ba13492-017b-4ead-b8ea-f323bcab4221"
      },
      "execution_count": 6,
      "outputs": [
        {
          "output_type": "execute_result",
          "data": {
            "text/plain": [
              "(80033, 11)"
            ]
          },
          "metadata": {},
          "execution_count": 6
        }
      ]
    },
    {
      "cell_type": "code",
      "source": [
        "reviews.columns"
      ],
      "metadata": {
        "colab": {
          "base_uri": "https://localhost:8080/"
        },
        "id": "-ZcuL5UqNCrS",
        "outputId": "e86716e2-2c03-4ad7-aeee-92ef9a0ad81c"
      },
      "execution_count": 7,
      "outputs": [
        {
          "output_type": "execute_result",
          "data": {
            "text/plain": [
              "Index(['Unnamed: 0', 'asin', 'name', 'rating', 'date', 'verified', 'title',\n",
              "       'title_lang', 'body', 'body_lang', 'helpfulVotes'],\n",
              "      dtype='object')"
            ]
          },
          "metadata": {},
          "execution_count": 7
        }
      ]
    },
    {
      "cell_type": "code",
      "source": [
        " #Removing columns that are not required:\n",
        "reviews = reviews.drop(columns=['Unnamed: 0', 'asin', 'name', 'date', 'verified', 'helpfulVotes'])\n",
        "reviews.columns"
      ],
      "metadata": {
        "colab": {
          "base_uri": "https://localhost:8080/"
        },
        "id": "1ScKWSqHIqTr",
        "outputId": "88810dad-c580-492e-bedd-1d9a4064d58f"
      },
      "execution_count": 8,
      "outputs": [
        {
          "output_type": "execute_result",
          "data": {
            "text/plain": [
              "Index(['rating', 'title', 'title_lang', 'body', 'body_lang'], dtype='object')"
            ]
          },
          "metadata": {},
          "execution_count": 8
        }
      ]
    },
    {
      "cell_type": "code",
      "source": [
        "# Checking for NaN\n",
        "reviews.isnull().values.any()"
      ],
      "metadata": {
        "colab": {
          "base_uri": "https://localhost:8080/"
        },
        "id": "9TPNd9aZPFiR",
        "outputId": "d1fa03d6-8b2e-46a8-aef3-9a0865a49e1a"
      },
      "execution_count": 9,
      "outputs": [
        {
          "output_type": "execute_result",
          "data": {
            "text/plain": [
              "True"
            ]
          },
          "metadata": {},
          "execution_count": 9
        }
      ]
    },
    {
      "cell_type": "code",
      "source": [
        "reviews.info()"
      ],
      "metadata": {
        "id": "waxvwwHiQExv",
        "colab": {
          "base_uri": "https://localhost:8080/"
        },
        "outputId": "619d5489-584e-4e58-bdeb-98ef4db9da28"
      },
      "execution_count": 10,
      "outputs": [
        {
          "output_type": "stream",
          "name": "stdout",
          "text": [
            "<class 'pandas.core.frame.DataFrame'>\n",
            "Int64Index: 80033 entries, 0 to 82815\n",
            "Data columns (total 5 columns):\n",
            " #   Column      Non-Null Count  Dtype  \n",
            "---  ------      --------------  -----  \n",
            " 0   rating      80032 non-null  float64\n",
            " 1   title       80022 non-null  object \n",
            " 2   title_lang  80033 non-null  object \n",
            " 3   body        80012 non-null  object \n",
            " 4   body_lang   80033 non-null  object \n",
            "dtypes: float64(1), object(4)\n",
            "memory usage: 3.7+ MB\n"
          ]
        }
      ]
    },
    {
      "cell_type": "markdown",
      "source": [
        "Getting all the rows that have atleast 1 NaN to observe and take a decision on what to do with them"
      ],
      "metadata": {
        "id": "ECxaAH1gSLKU"
      }
    },
    {
      "cell_type": "code",
      "source": [
        "reviews[reviews['rating'].isnull()]"
      ],
      "metadata": {
        "colab": {
          "base_uri": "https://localhost:8080/",
          "height": 80
        },
        "id": "3su4nfvoQLpG",
        "outputId": "5040351b-2e42-4611-b9e3-a250b2f00ef3"
      },
      "execution_count": 11,
      "outputs": [
        {
          "output_type": "execute_result",
          "data": {
            "text/plain": [
              "       rating title title_lang body body_lang\n",
              "82815     NaN   NaN         en  NaN        en"
            ],
            "text/html": [
              "\n",
              "  <div id=\"df-956e0bbe-2c5c-4267-b0d1-9ab8ef2c41e2\">\n",
              "    <div class=\"colab-df-container\">\n",
              "      <div>\n",
              "<style scoped>\n",
              "    .dataframe tbody tr th:only-of-type {\n",
              "        vertical-align: middle;\n",
              "    }\n",
              "\n",
              "    .dataframe tbody tr th {\n",
              "        vertical-align: top;\n",
              "    }\n",
              "\n",
              "    .dataframe thead th {\n",
              "        text-align: right;\n",
              "    }\n",
              "</style>\n",
              "<table border=\"1\" class=\"dataframe\">\n",
              "  <thead>\n",
              "    <tr style=\"text-align: right;\">\n",
              "      <th></th>\n",
              "      <th>rating</th>\n",
              "      <th>title</th>\n",
              "      <th>title_lang</th>\n",
              "      <th>body</th>\n",
              "      <th>body_lang</th>\n",
              "    </tr>\n",
              "  </thead>\n",
              "  <tbody>\n",
              "    <tr>\n",
              "      <th>82815</th>\n",
              "      <td>NaN</td>\n",
              "      <td>NaN</td>\n",
              "      <td>en</td>\n",
              "      <td>NaN</td>\n",
              "      <td>en</td>\n",
              "    </tr>\n",
              "  </tbody>\n",
              "</table>\n",
              "</div>\n",
              "      <button class=\"colab-df-convert\" onclick=\"convertToInteractive('df-956e0bbe-2c5c-4267-b0d1-9ab8ef2c41e2')\"\n",
              "              title=\"Convert this dataframe to an interactive table.\"\n",
              "              style=\"display:none;\">\n",
              "        \n",
              "  <svg xmlns=\"http://www.w3.org/2000/svg\" height=\"24px\"viewBox=\"0 0 24 24\"\n",
              "       width=\"24px\">\n",
              "    <path d=\"M0 0h24v24H0V0z\" fill=\"none\"/>\n",
              "    <path d=\"M18.56 5.44l.94 2.06.94-2.06 2.06-.94-2.06-.94-.94-2.06-.94 2.06-2.06.94zm-11 1L8.5 8.5l.94-2.06 2.06-.94-2.06-.94L8.5 2.5l-.94 2.06-2.06.94zm10 10l.94 2.06.94-2.06 2.06-.94-2.06-.94-.94-2.06-.94 2.06-2.06.94z\"/><path d=\"M17.41 7.96l-1.37-1.37c-.4-.4-.92-.59-1.43-.59-.52 0-1.04.2-1.43.59L10.3 9.45l-7.72 7.72c-.78.78-.78 2.05 0 2.83L4 21.41c.39.39.9.59 1.41.59.51 0 1.02-.2 1.41-.59l7.78-7.78 2.81-2.81c.8-.78.8-2.07 0-2.86zM5.41 20L4 18.59l7.72-7.72 1.47 1.35L5.41 20z\"/>\n",
              "  </svg>\n",
              "      </button>\n",
              "      \n",
              "  <style>\n",
              "    .colab-df-container {\n",
              "      display:flex;\n",
              "      flex-wrap:wrap;\n",
              "      gap: 12px;\n",
              "    }\n",
              "\n",
              "    .colab-df-convert {\n",
              "      background-color: #E8F0FE;\n",
              "      border: none;\n",
              "      border-radius: 50%;\n",
              "      cursor: pointer;\n",
              "      display: none;\n",
              "      fill: #1967D2;\n",
              "      height: 32px;\n",
              "      padding: 0 0 0 0;\n",
              "      width: 32px;\n",
              "    }\n",
              "\n",
              "    .colab-df-convert:hover {\n",
              "      background-color: #E2EBFA;\n",
              "      box-shadow: 0px 1px 2px rgba(60, 64, 67, 0.3), 0px 1px 3px 1px rgba(60, 64, 67, 0.15);\n",
              "      fill: #174EA6;\n",
              "    }\n",
              "\n",
              "    [theme=dark] .colab-df-convert {\n",
              "      background-color: #3B4455;\n",
              "      fill: #D2E3FC;\n",
              "    }\n",
              "\n",
              "    [theme=dark] .colab-df-convert:hover {\n",
              "      background-color: #434B5C;\n",
              "      box-shadow: 0px 1px 3px 1px rgba(0, 0, 0, 0.15);\n",
              "      filter: drop-shadow(0px 1px 2px rgba(0, 0, 0, 0.3));\n",
              "      fill: #FFFFFF;\n",
              "    }\n",
              "  </style>\n",
              "\n",
              "      <script>\n",
              "        const buttonEl =\n",
              "          document.querySelector('#df-956e0bbe-2c5c-4267-b0d1-9ab8ef2c41e2 button.colab-df-convert');\n",
              "        buttonEl.style.display =\n",
              "          google.colab.kernel.accessAllowed ? 'block' : 'none';\n",
              "\n",
              "        async function convertToInteractive(key) {\n",
              "          const element = document.querySelector('#df-956e0bbe-2c5c-4267-b0d1-9ab8ef2c41e2');\n",
              "          const dataTable =\n",
              "            await google.colab.kernel.invokeFunction('convertToInteractive',\n",
              "                                                     [key], {});\n",
              "          if (!dataTable) return;\n",
              "\n",
              "          const docLinkHtml = 'Like what you see? Visit the ' +\n",
              "            '<a target=\"_blank\" href=https://colab.research.google.com/notebooks/data_table.ipynb>data table notebook</a>'\n",
              "            + ' to learn more about interactive tables.';\n",
              "          element.innerHTML = '';\n",
              "          dataTable['output_type'] = 'display_data';\n",
              "          await google.colab.output.renderOutput(dataTable, element);\n",
              "          const docLink = document.createElement('div');\n",
              "          docLink.innerHTML = docLinkHtml;\n",
              "          element.appendChild(docLink);\n",
              "        }\n",
              "      </script>\n",
              "    </div>\n",
              "  </div>\n",
              "  "
            ]
          },
          "metadata": {},
          "execution_count": 11
        }
      ]
    },
    {
      "cell_type": "code",
      "source": [
        "reviews[reviews['title'].isnull()]"
      ],
      "metadata": {
        "colab": {
          "base_uri": "https://localhost:8080/",
          "height": 390
        },
        "id": "wIl5Wgr8SXYc",
        "outputId": "70f32b50-acb6-48ee-8663-caace24c9dcc"
      },
      "execution_count": 12,
      "outputs": [
        {
          "output_type": "execute_result",
          "data": {
            "text/plain": [
              "       rating title title_lang  \\\n",
              "27707     1.0   NaN         en   \n",
              "45093     5.0   NaN         en   \n",
              "46648     5.0   NaN         en   \n",
              "63737     5.0   NaN         en   \n",
              "64792     5.0   NaN         en   \n",
              "65788     5.0   NaN         en   \n",
              "68747     5.0   NaN         en   \n",
              "78216     5.0   NaN         en   \n",
              "79129     5.0   NaN         en   \n",
              "80337     5.0   NaN         en   \n",
              "82815     NaN   NaN         en   \n",
              "\n",
              "                                                    body body_lang  \n",
              "27707                 Battery doesn't work as new one...        en  \n",
              "45093                             Almost like pretty new        en  \n",
              "46648  Love this phone. Everything's worked great. So...        en  \n",
              "63737              I get that phone I needed ,, thanks .        en  \n",
              "64792                                     Love the phone        en  \n",
              "65788                                        Great phone        en  \n",
              "68747                                  Great phone...A++        en  \n",
              "78216                             It was s good purchase        en  \n",
              "79129                              Good value for price!        en  \n",
              "80337                        It was okay no dislikes yet        en  \n",
              "82815                                                NaN        en  "
            ],
            "text/html": [
              "\n",
              "  <div id=\"df-6eb845c2-c38a-4380-bf65-271bd739aa58\">\n",
              "    <div class=\"colab-df-container\">\n",
              "      <div>\n",
              "<style scoped>\n",
              "    .dataframe tbody tr th:only-of-type {\n",
              "        vertical-align: middle;\n",
              "    }\n",
              "\n",
              "    .dataframe tbody tr th {\n",
              "        vertical-align: top;\n",
              "    }\n",
              "\n",
              "    .dataframe thead th {\n",
              "        text-align: right;\n",
              "    }\n",
              "</style>\n",
              "<table border=\"1\" class=\"dataframe\">\n",
              "  <thead>\n",
              "    <tr style=\"text-align: right;\">\n",
              "      <th></th>\n",
              "      <th>rating</th>\n",
              "      <th>title</th>\n",
              "      <th>title_lang</th>\n",
              "      <th>body</th>\n",
              "      <th>body_lang</th>\n",
              "    </tr>\n",
              "  </thead>\n",
              "  <tbody>\n",
              "    <tr>\n",
              "      <th>27707</th>\n",
              "      <td>1.0</td>\n",
              "      <td>NaN</td>\n",
              "      <td>en</td>\n",
              "      <td>Battery doesn't work as new one...</td>\n",
              "      <td>en</td>\n",
              "    </tr>\n",
              "    <tr>\n",
              "      <th>45093</th>\n",
              "      <td>5.0</td>\n",
              "      <td>NaN</td>\n",
              "      <td>en</td>\n",
              "      <td>Almost like pretty new</td>\n",
              "      <td>en</td>\n",
              "    </tr>\n",
              "    <tr>\n",
              "      <th>46648</th>\n",
              "      <td>5.0</td>\n",
              "      <td>NaN</td>\n",
              "      <td>en</td>\n",
              "      <td>Love this phone. Everything's worked great. So...</td>\n",
              "      <td>en</td>\n",
              "    </tr>\n",
              "    <tr>\n",
              "      <th>63737</th>\n",
              "      <td>5.0</td>\n",
              "      <td>NaN</td>\n",
              "      <td>en</td>\n",
              "      <td>I get that phone I needed ,, thanks .</td>\n",
              "      <td>en</td>\n",
              "    </tr>\n",
              "    <tr>\n",
              "      <th>64792</th>\n",
              "      <td>5.0</td>\n",
              "      <td>NaN</td>\n",
              "      <td>en</td>\n",
              "      <td>Love the phone</td>\n",
              "      <td>en</td>\n",
              "    </tr>\n",
              "    <tr>\n",
              "      <th>65788</th>\n",
              "      <td>5.0</td>\n",
              "      <td>NaN</td>\n",
              "      <td>en</td>\n",
              "      <td>Great phone</td>\n",
              "      <td>en</td>\n",
              "    </tr>\n",
              "    <tr>\n",
              "      <th>68747</th>\n",
              "      <td>5.0</td>\n",
              "      <td>NaN</td>\n",
              "      <td>en</td>\n",
              "      <td>Great phone...A++</td>\n",
              "      <td>en</td>\n",
              "    </tr>\n",
              "    <tr>\n",
              "      <th>78216</th>\n",
              "      <td>5.0</td>\n",
              "      <td>NaN</td>\n",
              "      <td>en</td>\n",
              "      <td>It was s good purchase</td>\n",
              "      <td>en</td>\n",
              "    </tr>\n",
              "    <tr>\n",
              "      <th>79129</th>\n",
              "      <td>5.0</td>\n",
              "      <td>NaN</td>\n",
              "      <td>en</td>\n",
              "      <td>Good value for price!</td>\n",
              "      <td>en</td>\n",
              "    </tr>\n",
              "    <tr>\n",
              "      <th>80337</th>\n",
              "      <td>5.0</td>\n",
              "      <td>NaN</td>\n",
              "      <td>en</td>\n",
              "      <td>It was okay no dislikes yet</td>\n",
              "      <td>en</td>\n",
              "    </tr>\n",
              "    <tr>\n",
              "      <th>82815</th>\n",
              "      <td>NaN</td>\n",
              "      <td>NaN</td>\n",
              "      <td>en</td>\n",
              "      <td>NaN</td>\n",
              "      <td>en</td>\n",
              "    </tr>\n",
              "  </tbody>\n",
              "</table>\n",
              "</div>\n",
              "      <button class=\"colab-df-convert\" onclick=\"convertToInteractive('df-6eb845c2-c38a-4380-bf65-271bd739aa58')\"\n",
              "              title=\"Convert this dataframe to an interactive table.\"\n",
              "              style=\"display:none;\">\n",
              "        \n",
              "  <svg xmlns=\"http://www.w3.org/2000/svg\" height=\"24px\"viewBox=\"0 0 24 24\"\n",
              "       width=\"24px\">\n",
              "    <path d=\"M0 0h24v24H0V0z\" fill=\"none\"/>\n",
              "    <path d=\"M18.56 5.44l.94 2.06.94-2.06 2.06-.94-2.06-.94-.94-2.06-.94 2.06-2.06.94zm-11 1L8.5 8.5l.94-2.06 2.06-.94-2.06-.94L8.5 2.5l-.94 2.06-2.06.94zm10 10l.94 2.06.94-2.06 2.06-.94-2.06-.94-.94-2.06-.94 2.06-2.06.94z\"/><path d=\"M17.41 7.96l-1.37-1.37c-.4-.4-.92-.59-1.43-.59-.52 0-1.04.2-1.43.59L10.3 9.45l-7.72 7.72c-.78.78-.78 2.05 0 2.83L4 21.41c.39.39.9.59 1.41.59.51 0 1.02-.2 1.41-.59l7.78-7.78 2.81-2.81c.8-.78.8-2.07 0-2.86zM5.41 20L4 18.59l7.72-7.72 1.47 1.35L5.41 20z\"/>\n",
              "  </svg>\n",
              "      </button>\n",
              "      \n",
              "  <style>\n",
              "    .colab-df-container {\n",
              "      display:flex;\n",
              "      flex-wrap:wrap;\n",
              "      gap: 12px;\n",
              "    }\n",
              "\n",
              "    .colab-df-convert {\n",
              "      background-color: #E8F0FE;\n",
              "      border: none;\n",
              "      border-radius: 50%;\n",
              "      cursor: pointer;\n",
              "      display: none;\n",
              "      fill: #1967D2;\n",
              "      height: 32px;\n",
              "      padding: 0 0 0 0;\n",
              "      width: 32px;\n",
              "    }\n",
              "\n",
              "    .colab-df-convert:hover {\n",
              "      background-color: #E2EBFA;\n",
              "      box-shadow: 0px 1px 2px rgba(60, 64, 67, 0.3), 0px 1px 3px 1px rgba(60, 64, 67, 0.15);\n",
              "      fill: #174EA6;\n",
              "    }\n",
              "\n",
              "    [theme=dark] .colab-df-convert {\n",
              "      background-color: #3B4455;\n",
              "      fill: #D2E3FC;\n",
              "    }\n",
              "\n",
              "    [theme=dark] .colab-df-convert:hover {\n",
              "      background-color: #434B5C;\n",
              "      box-shadow: 0px 1px 3px 1px rgba(0, 0, 0, 0.15);\n",
              "      filter: drop-shadow(0px 1px 2px rgba(0, 0, 0, 0.3));\n",
              "      fill: #FFFFFF;\n",
              "    }\n",
              "  </style>\n",
              "\n",
              "      <script>\n",
              "        const buttonEl =\n",
              "          document.querySelector('#df-6eb845c2-c38a-4380-bf65-271bd739aa58 button.colab-df-convert');\n",
              "        buttonEl.style.display =\n",
              "          google.colab.kernel.accessAllowed ? 'block' : 'none';\n",
              "\n",
              "        async function convertToInteractive(key) {\n",
              "          const element = document.querySelector('#df-6eb845c2-c38a-4380-bf65-271bd739aa58');\n",
              "          const dataTable =\n",
              "            await google.colab.kernel.invokeFunction('convertToInteractive',\n",
              "                                                     [key], {});\n",
              "          if (!dataTable) return;\n",
              "\n",
              "          const docLinkHtml = 'Like what you see? Visit the ' +\n",
              "            '<a target=\"_blank\" href=https://colab.research.google.com/notebooks/data_table.ipynb>data table notebook</a>'\n",
              "            + ' to learn more about interactive tables.';\n",
              "          element.innerHTML = '';\n",
              "          dataTable['output_type'] = 'display_data';\n",
              "          await google.colab.output.renderOutput(dataTable, element);\n",
              "          const docLink = document.createElement('div');\n",
              "          docLink.innerHTML = docLinkHtml;\n",
              "          element.appendChild(docLink);\n",
              "        }\n",
              "      </script>\n",
              "    </div>\n",
              "  </div>\n",
              "  "
            ]
          },
          "metadata": {},
          "execution_count": 12
        }
      ]
    },
    {
      "cell_type": "code",
      "source": [
        "reviews[reviews['body'].isnull()]"
      ],
      "metadata": {
        "id": "L7cHnE7kf5Os",
        "colab": {
          "base_uri": "https://localhost:8080/",
          "height": 700
        },
        "outputId": "5f4b7f5c-ef1e-45ec-b4ff-86ca051540d5"
      },
      "execution_count": 13,
      "outputs": [
        {
          "output_type": "execute_result",
          "data": {
            "text/plain": [
              "       rating                                              title title_lang  \\\n",
              "9840      3.0                                        Three Stars         en   \n",
              "19026     4.0                                         Four Stars         en   \n",
              "21385     5.0                             Nice and fast shipment         en   \n",
              "21394     1.0                                            Damaged         en   \n",
              "23640     2.0                              The Wrong Phone Color         en   \n",
              "24644     1.0                                           One Star         en   \n",
              "26433     2.0                              The Wrong Phone Color         en   \n",
              "28359     1.0                 DON'T BUY FROM CLEAN ELECTRIC!!!!!         en   \n",
              "28605     1.0                            I regret this purchase!         en   \n",
              "39664     5.0                                                 Hi         en   \n",
              "41224     5.0                                         Five Stars         en   \n",
              "42845     5.0                                                 Hi         en   \n",
              "49236     5.0                                   Love the camera!         en   \n",
              "50015     1.0                                           One Star         en   \n",
              "57138     5.0                        Small Company Good Products         en   \n",
              "62281     5.0                                         Five Stars         en   \n",
              "68022     5.0  Smart phone with plenty of bells and whistles ...         en   \n",
              "70023     5.0                                 Just what i needed         en   \n",
              "77472     5.0                                       Size Matters         en   \n",
              "80801     4.0                         Good phone for your buck..         en   \n",
              "82815     NaN                                                NaN         en   \n",
              "\n",
              "      body body_lang  \n",
              "9840   NaN        en  \n",
              "19026  NaN        en  \n",
              "21385  NaN        en  \n",
              "21394  NaN        en  \n",
              "23640  NaN        en  \n",
              "24644  NaN        en  \n",
              "26433  NaN        en  \n",
              "28359  NaN        en  \n",
              "28605  NaN        en  \n",
              "39664  NaN        en  \n",
              "41224  NaN        en  \n",
              "42845  NaN        en  \n",
              "49236  NaN        en  \n",
              "50015  NaN        en  \n",
              "57138  NaN        en  \n",
              "62281  NaN        en  \n",
              "68022  NaN        en  \n",
              "70023  NaN        en  \n",
              "77472  NaN        en  \n",
              "80801  NaN        en  \n",
              "82815  NaN        en  "
            ],
            "text/html": [
              "\n",
              "  <div id=\"df-87d9b5e6-d314-45f3-83e9-bee745018c96\">\n",
              "    <div class=\"colab-df-container\">\n",
              "      <div>\n",
              "<style scoped>\n",
              "    .dataframe tbody tr th:only-of-type {\n",
              "        vertical-align: middle;\n",
              "    }\n",
              "\n",
              "    .dataframe tbody tr th {\n",
              "        vertical-align: top;\n",
              "    }\n",
              "\n",
              "    .dataframe thead th {\n",
              "        text-align: right;\n",
              "    }\n",
              "</style>\n",
              "<table border=\"1\" class=\"dataframe\">\n",
              "  <thead>\n",
              "    <tr style=\"text-align: right;\">\n",
              "      <th></th>\n",
              "      <th>rating</th>\n",
              "      <th>title</th>\n",
              "      <th>title_lang</th>\n",
              "      <th>body</th>\n",
              "      <th>body_lang</th>\n",
              "    </tr>\n",
              "  </thead>\n",
              "  <tbody>\n",
              "    <tr>\n",
              "      <th>9840</th>\n",
              "      <td>3.0</td>\n",
              "      <td>Three Stars</td>\n",
              "      <td>en</td>\n",
              "      <td>NaN</td>\n",
              "      <td>en</td>\n",
              "    </tr>\n",
              "    <tr>\n",
              "      <th>19026</th>\n",
              "      <td>4.0</td>\n",
              "      <td>Four Stars</td>\n",
              "      <td>en</td>\n",
              "      <td>NaN</td>\n",
              "      <td>en</td>\n",
              "    </tr>\n",
              "    <tr>\n",
              "      <th>21385</th>\n",
              "      <td>5.0</td>\n",
              "      <td>Nice and fast shipment</td>\n",
              "      <td>en</td>\n",
              "      <td>NaN</td>\n",
              "      <td>en</td>\n",
              "    </tr>\n",
              "    <tr>\n",
              "      <th>21394</th>\n",
              "      <td>1.0</td>\n",
              "      <td>Damaged</td>\n",
              "      <td>en</td>\n",
              "      <td>NaN</td>\n",
              "      <td>en</td>\n",
              "    </tr>\n",
              "    <tr>\n",
              "      <th>23640</th>\n",
              "      <td>2.0</td>\n",
              "      <td>The Wrong Phone Color</td>\n",
              "      <td>en</td>\n",
              "      <td>NaN</td>\n",
              "      <td>en</td>\n",
              "    </tr>\n",
              "    <tr>\n",
              "      <th>24644</th>\n",
              "      <td>1.0</td>\n",
              "      <td>One Star</td>\n",
              "      <td>en</td>\n",
              "      <td>NaN</td>\n",
              "      <td>en</td>\n",
              "    </tr>\n",
              "    <tr>\n",
              "      <th>26433</th>\n",
              "      <td>2.0</td>\n",
              "      <td>The Wrong Phone Color</td>\n",
              "      <td>en</td>\n",
              "      <td>NaN</td>\n",
              "      <td>en</td>\n",
              "    </tr>\n",
              "    <tr>\n",
              "      <th>28359</th>\n",
              "      <td>1.0</td>\n",
              "      <td>DON'T BUY FROM CLEAN ELECTRIC!!!!!</td>\n",
              "      <td>en</td>\n",
              "      <td>NaN</td>\n",
              "      <td>en</td>\n",
              "    </tr>\n",
              "    <tr>\n",
              "      <th>28605</th>\n",
              "      <td>1.0</td>\n",
              "      <td>I regret this purchase!</td>\n",
              "      <td>en</td>\n",
              "      <td>NaN</td>\n",
              "      <td>en</td>\n",
              "    </tr>\n",
              "    <tr>\n",
              "      <th>39664</th>\n",
              "      <td>5.0</td>\n",
              "      <td>Hi</td>\n",
              "      <td>en</td>\n",
              "      <td>NaN</td>\n",
              "      <td>en</td>\n",
              "    </tr>\n",
              "    <tr>\n",
              "      <th>41224</th>\n",
              "      <td>5.0</td>\n",
              "      <td>Five Stars</td>\n",
              "      <td>en</td>\n",
              "      <td>NaN</td>\n",
              "      <td>en</td>\n",
              "    </tr>\n",
              "    <tr>\n",
              "      <th>42845</th>\n",
              "      <td>5.0</td>\n",
              "      <td>Hi</td>\n",
              "      <td>en</td>\n",
              "      <td>NaN</td>\n",
              "      <td>en</td>\n",
              "    </tr>\n",
              "    <tr>\n",
              "      <th>49236</th>\n",
              "      <td>5.0</td>\n",
              "      <td>Love the camera!</td>\n",
              "      <td>en</td>\n",
              "      <td>NaN</td>\n",
              "      <td>en</td>\n",
              "    </tr>\n",
              "    <tr>\n",
              "      <th>50015</th>\n",
              "      <td>1.0</td>\n",
              "      <td>One Star</td>\n",
              "      <td>en</td>\n",
              "      <td>NaN</td>\n",
              "      <td>en</td>\n",
              "    </tr>\n",
              "    <tr>\n",
              "      <th>57138</th>\n",
              "      <td>5.0</td>\n",
              "      <td>Small Company Good Products</td>\n",
              "      <td>en</td>\n",
              "      <td>NaN</td>\n",
              "      <td>en</td>\n",
              "    </tr>\n",
              "    <tr>\n",
              "      <th>62281</th>\n",
              "      <td>5.0</td>\n",
              "      <td>Five Stars</td>\n",
              "      <td>en</td>\n",
              "      <td>NaN</td>\n",
              "      <td>en</td>\n",
              "    </tr>\n",
              "    <tr>\n",
              "      <th>68022</th>\n",
              "      <td>5.0</td>\n",
              "      <td>Smart phone with plenty of bells and whistles ...</td>\n",
              "      <td>en</td>\n",
              "      <td>NaN</td>\n",
              "      <td>en</td>\n",
              "    </tr>\n",
              "    <tr>\n",
              "      <th>70023</th>\n",
              "      <td>5.0</td>\n",
              "      <td>Just what i needed</td>\n",
              "      <td>en</td>\n",
              "      <td>NaN</td>\n",
              "      <td>en</td>\n",
              "    </tr>\n",
              "    <tr>\n",
              "      <th>77472</th>\n",
              "      <td>5.0</td>\n",
              "      <td>Size Matters</td>\n",
              "      <td>en</td>\n",
              "      <td>NaN</td>\n",
              "      <td>en</td>\n",
              "    </tr>\n",
              "    <tr>\n",
              "      <th>80801</th>\n",
              "      <td>4.0</td>\n",
              "      <td>Good phone for your buck..</td>\n",
              "      <td>en</td>\n",
              "      <td>NaN</td>\n",
              "      <td>en</td>\n",
              "    </tr>\n",
              "    <tr>\n",
              "      <th>82815</th>\n",
              "      <td>NaN</td>\n",
              "      <td>NaN</td>\n",
              "      <td>en</td>\n",
              "      <td>NaN</td>\n",
              "      <td>en</td>\n",
              "    </tr>\n",
              "  </tbody>\n",
              "</table>\n",
              "</div>\n",
              "      <button class=\"colab-df-convert\" onclick=\"convertToInteractive('df-87d9b5e6-d314-45f3-83e9-bee745018c96')\"\n",
              "              title=\"Convert this dataframe to an interactive table.\"\n",
              "              style=\"display:none;\">\n",
              "        \n",
              "  <svg xmlns=\"http://www.w3.org/2000/svg\" height=\"24px\"viewBox=\"0 0 24 24\"\n",
              "       width=\"24px\">\n",
              "    <path d=\"M0 0h24v24H0V0z\" fill=\"none\"/>\n",
              "    <path d=\"M18.56 5.44l.94 2.06.94-2.06 2.06-.94-2.06-.94-.94-2.06-.94 2.06-2.06.94zm-11 1L8.5 8.5l.94-2.06 2.06-.94-2.06-.94L8.5 2.5l-.94 2.06-2.06.94zm10 10l.94 2.06.94-2.06 2.06-.94-2.06-.94-.94-2.06-.94 2.06-2.06.94z\"/><path d=\"M17.41 7.96l-1.37-1.37c-.4-.4-.92-.59-1.43-.59-.52 0-1.04.2-1.43.59L10.3 9.45l-7.72 7.72c-.78.78-.78 2.05 0 2.83L4 21.41c.39.39.9.59 1.41.59.51 0 1.02-.2 1.41-.59l7.78-7.78 2.81-2.81c.8-.78.8-2.07 0-2.86zM5.41 20L4 18.59l7.72-7.72 1.47 1.35L5.41 20z\"/>\n",
              "  </svg>\n",
              "      </button>\n",
              "      \n",
              "  <style>\n",
              "    .colab-df-container {\n",
              "      display:flex;\n",
              "      flex-wrap:wrap;\n",
              "      gap: 12px;\n",
              "    }\n",
              "\n",
              "    .colab-df-convert {\n",
              "      background-color: #E8F0FE;\n",
              "      border: none;\n",
              "      border-radius: 50%;\n",
              "      cursor: pointer;\n",
              "      display: none;\n",
              "      fill: #1967D2;\n",
              "      height: 32px;\n",
              "      padding: 0 0 0 0;\n",
              "      width: 32px;\n",
              "    }\n",
              "\n",
              "    .colab-df-convert:hover {\n",
              "      background-color: #E2EBFA;\n",
              "      box-shadow: 0px 1px 2px rgba(60, 64, 67, 0.3), 0px 1px 3px 1px rgba(60, 64, 67, 0.15);\n",
              "      fill: #174EA6;\n",
              "    }\n",
              "\n",
              "    [theme=dark] .colab-df-convert {\n",
              "      background-color: #3B4455;\n",
              "      fill: #D2E3FC;\n",
              "    }\n",
              "\n",
              "    [theme=dark] .colab-df-convert:hover {\n",
              "      background-color: #434B5C;\n",
              "      box-shadow: 0px 1px 3px 1px rgba(0, 0, 0, 0.15);\n",
              "      filter: drop-shadow(0px 1px 2px rgba(0, 0, 0, 0.3));\n",
              "      fill: #FFFFFF;\n",
              "    }\n",
              "  </style>\n",
              "\n",
              "      <script>\n",
              "        const buttonEl =\n",
              "          document.querySelector('#df-87d9b5e6-d314-45f3-83e9-bee745018c96 button.colab-df-convert');\n",
              "        buttonEl.style.display =\n",
              "          google.colab.kernel.accessAllowed ? 'block' : 'none';\n",
              "\n",
              "        async function convertToInteractive(key) {\n",
              "          const element = document.querySelector('#df-87d9b5e6-d314-45f3-83e9-bee745018c96');\n",
              "          const dataTable =\n",
              "            await google.colab.kernel.invokeFunction('convertToInteractive',\n",
              "                                                     [key], {});\n",
              "          if (!dataTable) return;\n",
              "\n",
              "          const docLinkHtml = 'Like what you see? Visit the ' +\n",
              "            '<a target=\"_blank\" href=https://colab.research.google.com/notebooks/data_table.ipynb>data table notebook</a>'\n",
              "            + ' to learn more about interactive tables.';\n",
              "          element.innerHTML = '';\n",
              "          dataTable['output_type'] = 'display_data';\n",
              "          await google.colab.output.renderOutput(dataTable, element);\n",
              "          const docLink = document.createElement('div');\n",
              "          docLink.innerHTML = docLinkHtml;\n",
              "          element.appendChild(docLink);\n",
              "        }\n",
              "      </script>\n",
              "    </div>\n",
              "  </div>\n",
              "  "
            ]
          },
          "metadata": {},
          "execution_count": 13
        }
      ]
    },
    {
      "cell_type": "code",
      "source": [
        "# Replacing NaN values of title with empty string\n",
        "reviews[['title','body' ]] = reviews[['title','body' ]].fillna('')\n",
        "# Removing rows that don't have any rating \n",
        "reviews = reviews.dropna(subset=['rating'])"
      ],
      "metadata": {
        "id": "8KDjIr7TSqGN"
      },
      "execution_count": 14,
      "outputs": []
    },
    {
      "cell_type": "code",
      "source": [
        "# Checking for NaN\n",
        "reviews.isnull().values.any()"
      ],
      "metadata": {
        "colab": {
          "base_uri": "https://localhost:8080/"
        },
        "id": "9KST-Oa1g3rN",
        "outputId": "b954a9a6-ec63-4b27-c843-b74e88532715"
      },
      "execution_count": 15,
      "outputs": [
        {
          "output_type": "execute_result",
          "data": {
            "text/plain": [
              "False"
            ]
          },
          "metadata": {},
          "execution_count": 15
        }
      ]
    },
    {
      "cell_type": "code",
      "source": [
        "# Create quick lambda functions to find the polarity of each review based on rating\n",
        "# 4.0-5.0 : Postive\n",
        "# 3.0 : Neutral\n",
        "# 1.0-2.0 : Negative\n",
        "\n",
        "reviews[\"sentiment\"] = reviews[\"rating\"].apply(lambda x: 'Positive' if x>3 else('Neutral' if x==3 else 'Negative'))"
      ],
      "metadata": {
        "id": "WR1c65ddg3wM"
      },
      "execution_count": 16,
      "outputs": []
    },
    {
      "cell_type": "code",
      "source": [
        "reviews.head()"
      ],
      "metadata": {
        "colab": {
          "base_uri": "https://localhost:8080/",
          "height": 204
        },
        "id": "bQTnqw4fkAdr",
        "outputId": "012c3a1e-bdd1-40df-8275-62b28b258716"
      },
      "execution_count": 17,
      "outputs": [
        {
          "output_type": "execute_result",
          "data": {
            "text/plain": [
              "   rating                                         title title_lang  \\\n",
              "0     3.0                   Def not best, but not worst         en   \n",
              "1     1.0                   Text Messaging Doesn't Work         en   \n",
              "2     5.0                               Love This Phone         en   \n",
              "3     3.0                       Love the Phone, BUT...!         en   \n",
              "4     4.0  Great phone service and options, lousy case!         en   \n",
              "\n",
              "                                                body body_lang sentiment  \n",
              "0  I had the Samsung A600 for awhile which is abs...        en   Neutral  \n",
              "1  Due to a software issue between Nokia and Spri...        en  Negative  \n",
              "2  This is a great, reliable phone. I also purcha...        en  Positive  \n",
              "3  I love the phone and all, because I really did...        en   Neutral  \n",
              "4  The phone has been great for every purpose it ...        en  Positive  "
            ],
            "text/html": [
              "\n",
              "  <div id=\"df-e5d59873-460b-4e54-a855-3a4a4c64beb5\">\n",
              "    <div class=\"colab-df-container\">\n",
              "      <div>\n",
              "<style scoped>\n",
              "    .dataframe tbody tr th:only-of-type {\n",
              "        vertical-align: middle;\n",
              "    }\n",
              "\n",
              "    .dataframe tbody tr th {\n",
              "        vertical-align: top;\n",
              "    }\n",
              "\n",
              "    .dataframe thead th {\n",
              "        text-align: right;\n",
              "    }\n",
              "</style>\n",
              "<table border=\"1\" class=\"dataframe\">\n",
              "  <thead>\n",
              "    <tr style=\"text-align: right;\">\n",
              "      <th></th>\n",
              "      <th>rating</th>\n",
              "      <th>title</th>\n",
              "      <th>title_lang</th>\n",
              "      <th>body</th>\n",
              "      <th>body_lang</th>\n",
              "      <th>sentiment</th>\n",
              "    </tr>\n",
              "  </thead>\n",
              "  <tbody>\n",
              "    <tr>\n",
              "      <th>0</th>\n",
              "      <td>3.0</td>\n",
              "      <td>Def not best, but not worst</td>\n",
              "      <td>en</td>\n",
              "      <td>I had the Samsung A600 for awhile which is abs...</td>\n",
              "      <td>en</td>\n",
              "      <td>Neutral</td>\n",
              "    </tr>\n",
              "    <tr>\n",
              "      <th>1</th>\n",
              "      <td>1.0</td>\n",
              "      <td>Text Messaging Doesn't Work</td>\n",
              "      <td>en</td>\n",
              "      <td>Due to a software issue between Nokia and Spri...</td>\n",
              "      <td>en</td>\n",
              "      <td>Negative</td>\n",
              "    </tr>\n",
              "    <tr>\n",
              "      <th>2</th>\n",
              "      <td>5.0</td>\n",
              "      <td>Love This Phone</td>\n",
              "      <td>en</td>\n",
              "      <td>This is a great, reliable phone. I also purcha...</td>\n",
              "      <td>en</td>\n",
              "      <td>Positive</td>\n",
              "    </tr>\n",
              "    <tr>\n",
              "      <th>3</th>\n",
              "      <td>3.0</td>\n",
              "      <td>Love the Phone, BUT...!</td>\n",
              "      <td>en</td>\n",
              "      <td>I love the phone and all, because I really did...</td>\n",
              "      <td>en</td>\n",
              "      <td>Neutral</td>\n",
              "    </tr>\n",
              "    <tr>\n",
              "      <th>4</th>\n",
              "      <td>4.0</td>\n",
              "      <td>Great phone service and options, lousy case!</td>\n",
              "      <td>en</td>\n",
              "      <td>The phone has been great for every purpose it ...</td>\n",
              "      <td>en</td>\n",
              "      <td>Positive</td>\n",
              "    </tr>\n",
              "  </tbody>\n",
              "</table>\n",
              "</div>\n",
              "      <button class=\"colab-df-convert\" onclick=\"convertToInteractive('df-e5d59873-460b-4e54-a855-3a4a4c64beb5')\"\n",
              "              title=\"Convert this dataframe to an interactive table.\"\n",
              "              style=\"display:none;\">\n",
              "        \n",
              "  <svg xmlns=\"http://www.w3.org/2000/svg\" height=\"24px\"viewBox=\"0 0 24 24\"\n",
              "       width=\"24px\">\n",
              "    <path d=\"M0 0h24v24H0V0z\" fill=\"none\"/>\n",
              "    <path d=\"M18.56 5.44l.94 2.06.94-2.06 2.06-.94-2.06-.94-.94-2.06-.94 2.06-2.06.94zm-11 1L8.5 8.5l.94-2.06 2.06-.94-2.06-.94L8.5 2.5l-.94 2.06-2.06.94zm10 10l.94 2.06.94-2.06 2.06-.94-2.06-.94-.94-2.06-.94 2.06-2.06.94z\"/><path d=\"M17.41 7.96l-1.37-1.37c-.4-.4-.92-.59-1.43-.59-.52 0-1.04.2-1.43.59L10.3 9.45l-7.72 7.72c-.78.78-.78 2.05 0 2.83L4 21.41c.39.39.9.59 1.41.59.51 0 1.02-.2 1.41-.59l7.78-7.78 2.81-2.81c.8-.78.8-2.07 0-2.86zM5.41 20L4 18.59l7.72-7.72 1.47 1.35L5.41 20z\"/>\n",
              "  </svg>\n",
              "      </button>\n",
              "      \n",
              "  <style>\n",
              "    .colab-df-container {\n",
              "      display:flex;\n",
              "      flex-wrap:wrap;\n",
              "      gap: 12px;\n",
              "    }\n",
              "\n",
              "    .colab-df-convert {\n",
              "      background-color: #E8F0FE;\n",
              "      border: none;\n",
              "      border-radius: 50%;\n",
              "      cursor: pointer;\n",
              "      display: none;\n",
              "      fill: #1967D2;\n",
              "      height: 32px;\n",
              "      padding: 0 0 0 0;\n",
              "      width: 32px;\n",
              "    }\n",
              "\n",
              "    .colab-df-convert:hover {\n",
              "      background-color: #E2EBFA;\n",
              "      box-shadow: 0px 1px 2px rgba(60, 64, 67, 0.3), 0px 1px 3px 1px rgba(60, 64, 67, 0.15);\n",
              "      fill: #174EA6;\n",
              "    }\n",
              "\n",
              "    [theme=dark] .colab-df-convert {\n",
              "      background-color: #3B4455;\n",
              "      fill: #D2E3FC;\n",
              "    }\n",
              "\n",
              "    [theme=dark] .colab-df-convert:hover {\n",
              "      background-color: #434B5C;\n",
              "      box-shadow: 0px 1px 3px 1px rgba(0, 0, 0, 0.15);\n",
              "      filter: drop-shadow(0px 1px 2px rgba(0, 0, 0, 0.3));\n",
              "      fill: #FFFFFF;\n",
              "    }\n",
              "  </style>\n",
              "\n",
              "      <script>\n",
              "        const buttonEl =\n",
              "          document.querySelector('#df-e5d59873-460b-4e54-a855-3a4a4c64beb5 button.colab-df-convert');\n",
              "        buttonEl.style.display =\n",
              "          google.colab.kernel.accessAllowed ? 'block' : 'none';\n",
              "\n",
              "        async function convertToInteractive(key) {\n",
              "          const element = document.querySelector('#df-e5d59873-460b-4e54-a855-3a4a4c64beb5');\n",
              "          const dataTable =\n",
              "            await google.colab.kernel.invokeFunction('convertToInteractive',\n",
              "                                                     [key], {});\n",
              "          if (!dataTable) return;\n",
              "\n",
              "          const docLinkHtml = 'Like what you see? Visit the ' +\n",
              "            '<a target=\"_blank\" href=https://colab.research.google.com/notebooks/data_table.ipynb>data table notebook</a>'\n",
              "            + ' to learn more about interactive tables.';\n",
              "          element.innerHTML = '';\n",
              "          dataTable['output_type'] = 'display_data';\n",
              "          await google.colab.output.renderOutput(dataTable, element);\n",
              "          const docLink = document.createElement('div');\n",
              "          docLink.innerHTML = docLinkHtml;\n",
              "          element.appendChild(docLink);\n",
              "        }\n",
              "      </script>\n",
              "    </div>\n",
              "  </div>\n",
              "  "
            ]
          },
          "metadata": {},
          "execution_count": 17
        }
      ]
    },
    {
      "cell_type": "code",
      "source": [
        "reviews.sentiment.value_counts()"
      ],
      "metadata": {
        "colab": {
          "base_uri": "https://localhost:8080/"
        },
        "id": "Miu-0S1rmruk",
        "outputId": "3b9a09b0-7436-477c-cf84-b76b4c0da08e"
      },
      "execution_count": 18,
      "outputs": [
        {
          "output_type": "execute_result",
          "data": {
            "text/plain": [
              "Positive    53585\n",
              "Negative    20796\n",
              "Neutral      5651\n",
              "Name: sentiment, dtype: int64"
            ]
          },
          "metadata": {},
          "execution_count": 18
        }
      ]
    },
    {
      "cell_type": "code",
      "source": [
        "# Sentiments distribution\n",
        "\n",
        "# Create a histogram plot using Seaborn\n",
        "sns.set(style='whitegrid')\n",
        "plt.figure(figsize=(8, 6))\n",
        "ax = sns.histplot(data=reviews, x='sentiment', hue='sentiment', palette='husl')\n",
        "ax.set_title('Distribution of Sentiments', fontsize=16)\n",
        "ax.set_xlabel('Sentiment', fontsize=14)\n",
        "ax.set_ylabel('Count', fontsize=14)\n",
        "\n",
        "# Show the plot\n",
        "plt.show()\n"
      ],
      "metadata": {
        "colab": {
          "base_uri": "https://localhost:8080/",
          "height": 576
        },
        "id": "G-p70rsMnrEJ",
        "outputId": "a306609c-a7df-493d-d9e8-893785301c0e"
      },
      "execution_count": 19,
      "outputs": [
        {
          "output_type": "display_data",
          "data": {
            "text/plain": [
              "<Figure size 800x600 with 1 Axes>"
            ],
            "image/png": "[encoded data removed]"
          },
          "metadata": {}
        }
      ]
    },
    {
      "cell_type": "code",
      "source": [
        "#Visualisation of data \n",
        "#nltk.download('stopwords')\n",
        "import nltk\n",
        "nltk.download('stopwords')\n",
        "stop_words = set(stopwords.words('english'))\n",
        "\n",
        "def wordBarGraphFunction(df,column,title):\n",
        "    topic_words = [ z.lower() for y in\n",
        "                       [ x.split() for x in df[column] if isinstance(x, str)]\n",
        "                       for z in y]\n",
        "    word_count_dict = dict(Counter(topic_words))\n",
        "    popular_words = sorted(word_count_dict, key = word_count_dict.get, reverse = True)\n",
        "    popular_words_nonstop = [w for w in popular_words if w not in stop_words]\n",
        "    plt.barh(range(50), [word_count_dict[w] for w in reversed(popular_words_nonstop[0:50])])\n",
        "    plt.yticks([x + 0.5 for x in range(50)], reversed(popular_words_nonstop[0:50]))\n",
        "    plt.title(title)\n",
        "    plt.show()\n",
        "\n",
        "plt.figure(figsize=(10,10))\n",
        "wordBarGraphFunction(reviews,'body',\"Popular Words in the Review Body\")\n"
      ],
      "metadata": {
        "colab": {
          "base_uri": "https://localhost:8080/",
          "height": 891
        },
        "id": "DHsD-FiMBwng",
        "outputId": "079af740-c6cc-400b-8ede-753b6440fcb7"
      },
      "execution_count": 20,
      "outputs": [
        {
          "output_type": "stream",
          "name": "stderr",
          "text": [
            "[nltk_data] Downloading package stopwords to /root/nltk_data...\n",
            "[nltk_data]   Package stopwords is already up-to-date!\n"
          ]
        },
        {
          "output_type": "display_data",
          "data": {
            "text/plain": [
              "<Figure size 1000x1000 with 1 Axes>"
            ],
            "image/png": "[encoded data removed]"
          },
          "metadata": {}
        }
      ]
    },
    {
      "cell_type": "code",
      "source": [
        "plt.figure(figsize=(10,10))\n",
        "wordBarGraphFunction(reviews,'title',\"Popular Words in the Title Body\")"
      ],
      "metadata": {
        "colab": {
          "base_uri": "https://localhost:8080/",
          "height": 857
        },
        "id": "85ZNpuIsOWt7",
        "outputId": "df752e2c-6467-47ac-8e97-0d7651cd9f4d"
      },
      "execution_count": 21,
      "outputs": [
        {
          "output_type": "display_data",
          "data": {
            "text/plain": [
              "<Figure size 1000x1000 with 1 Axes>"
            ],
            "image/png": "[encoded data removed]"
          },
          "metadata": {}
        }
      ]
    },
    {
      "cell_type": "code",
      "source": [
        "#Check for duplicate reviews:\n",
        "reviews[reviews.duplicated()]"
      ],
      "metadata": {
        "id": "jlRRNpwCpNiu",
        "colab": {
          "base_uri": "https://localhost:8080/",
          "height": 419
        },
        "outputId": "cbf7cdaa-b9a0-4726-8bea-59bbb3b93c41"
      },
      "execution_count": 22,
      "outputs": [
        {
          "output_type": "execute_result",
          "data": {
            "text/plain": [
              "       rating                                              title title_lang  \\\n",
              "830       5.0                                         Five Stars         en   \n",
              "958       5.0                                         Five Stars         en   \n",
              "1262      5.0                                         Five Stars         en   \n",
              "1280      5.0                                         Five Stars         en   \n",
              "1352      5.0                                         Five Stars         en   \n",
              "...       ...                                                ...        ...   \n",
              "82796     5.0                                                  I         en   \n",
              "82797     5.0                                         I like it.         en   \n",
              "82798     5.0  Basically Perfect and Brand New (ignore the an...         en   \n",
              "82799     5.0                           New Phone for Half Price         en   \n",
              "82800     5.0                                               Nice         en   \n",
              "\n",
              "                                                    body body_lang sentiment  \n",
              "830                                          works great        en  Positive  \n",
              "958                                            Excellent        en  Positive  \n",
              "1262                                           Excellent        en  Positive  \n",
              "1280                                                Good        en  Positive  \n",
              "1352                                                Good        en  Positive  \n",
              "...                                                  ...       ...       ...  \n",
              "82796                                         I loved it        en  Positive  \n",
              "82797                                       Best forever        en  Positive  \n",
              "82798  I was a little bit scared of my purchase given...        en  Positive  \n",
              "82799  I got a new phone for half the price!!! 100% b...        en  Positive  \n",
              "82800                                         Good phone        en  Positive  \n",
              "\n",
              "[7040 rows x 6 columns]"
            ],
            "text/html": [
              "\n",
              "  <div id=\"df-d9320067-669b-48b4-8d76-8e0a83f9711e\">\n",
              "    <div class=\"colab-df-container\">\n",
              "      <div>\n",
              "<style scoped>\n",
              "    .dataframe tbody tr th:only-of-type {\n",
              "        vertical-align: middle;\n",
              "    }\n",
              "\n",
              "    .dataframe tbody tr th {\n",
              "        vertical-align: top;\n",
              "    }\n",
              "\n",
              "    .dataframe thead th {\n",
              "        text-align: right;\n",
              "    }\n",
              "</style>\n",
              "<table border=\"1\" class=\"dataframe\">\n",
              "  <thead>\n",
              "    <tr style=\"text-align: right;\">\n",
              "      <th></th>\n",
              "      <th>rating</th>\n",
              "      <th>title</th>\n",
              "      <th>title_lang</th>\n",
              "      <th>body</th>\n",
              "      <th>body_lang</th>\n",
              "      <th>sentiment</th>\n",
              "    </tr>\n",
              "  </thead>\n",
              "  <tbody>\n",
              "    <tr>\n",
              "      <th>830</th>\n",
              "      <td>5.0</td>\n",
              "      <td>Five Stars</td>\n",
              "      <td>en</td>\n",
              "      <td>works great</td>\n",
              "      <td>en</td>\n",
              "      <td>Positive</td>\n",
              "    </tr>\n",
              "    <tr>\n",
              "      <th>958</th>\n",
              "      <td>5.0</td>\n",
              "      <td>Five Stars</td>\n",
              "      <td>en</td>\n",
              "      <td>Excellent</td>\n",
              "      <td>en</td>\n",
              "      <td>Positive</td>\n",
              "    </tr>\n",
              "    <tr>\n",
              "      <th>1262</th>\n",
              "      <td>5.0</td>\n",
              "      <td>Five Stars</td>\n",
              "      <td>en</td>\n",
              "      <td>Excellent</td>\n",
              "      <td>en</td>\n",
              "      <td>Positive</td>\n",
              "    </tr>\n",
              "    <tr>\n",
              "      <th>1280</th>\n",
              "      <td>5.0</td>\n",
              "      <td>Five Stars</td>\n",
              "      <td>en</td>\n",
              "      <td>Good</td>\n",
              "      <td>en</td>\n",
              "      <td>Positive</td>\n",
              "    </tr>\n",
              "    <tr>\n",
              "      <th>1352</th>\n",
              "      <td>5.0</td>\n",
              "      <td>Five Stars</td>\n",
              "      <td>en</td>\n",
              "      <td>Good</td>\n",
              "      <td>en</td>\n",
              "      <td>Positive</td>\n",
              "    </tr>\n",
              "    <tr>\n",
              "      <th>...</th>\n",
              "      <td>...</td>\n",
              "      <td>...</td>\n",
              "      <td>...</td>\n",
              "      <td>...</td>\n",
              "      <td>...</td>\n",
              "      <td>...</td>\n",
              "    </tr>\n",
              "    <tr>\n",
              "      <th>82796</th>\n",
              "      <td>5.0</td>\n",
              "      <td>I</td>\n",
              "      <td>en</td>\n",
              "      <td>I loved it</td>\n",
              "      <td>en</td>\n",
              "      <td>Positive</td>\n",
              "    </tr>\n",
              "    <tr>\n",
              "      <th>82797</th>\n",
              "      <td>5.0</td>\n",
              "      <td>I like it.</td>\n",
              "      <td>en</td>\n",
              "      <td>Best forever</td>\n",
              "      <td>en</td>\n",
              "      <td>Positive</td>\n",
              "    </tr>\n",
              "    <tr>\n",
              "      <th>82798</th>\n",
              "      <td>5.0</td>\n",
              "      <td>Basically Perfect and Brand New (ignore the an...</td>\n",
              "      <td>en</td>\n",
              "      <td>I was a little bit scared of my purchase given...</td>\n",
              "      <td>en</td>\n",
              "      <td>Positive</td>\n",
              "    </tr>\n",
              "    <tr>\n",
              "      <th>82799</th>\n",
              "      <td>5.0</td>\n",
              "      <td>New Phone for Half Price</td>\n",
              "      <td>en</td>\n",
              "      <td>I got a new phone for half the price!!! 100% b...</td>\n",
              "      <td>en</td>\n",
              "      <td>Positive</td>\n",
              "    </tr>\n",
              "    <tr>\n",
              "      <th>82800</th>\n",
              "      <td>5.0</td>\n",
              "      <td>Nice</td>\n",
              "      <td>en</td>\n",
              "      <td>Good phone</td>\n",
              "      <td>en</td>\n",
              "      <td>Positive</td>\n",
              "    </tr>\n",
              "  </tbody>\n",
              "</table>\n",
              "<p>7040 rows × 6 columns</p>\n",
              "</div>\n",
              "      <button class=\"colab-df-convert\" onclick=\"convertToInteractive('df-d9320067-669b-48b4-8d76-8e0a83f9711e')\"\n",
              "              title=\"Convert this dataframe to an interactive table.\"\n",
              "              style=\"display:none;\">\n",
              "        \n",
              "  <svg xmlns=\"http://www.w3.org/2000/svg\" height=\"24px\"viewBox=\"0 0 24 24\"\n",
              "       width=\"24px\">\n",
              "    <path d=\"M0 0h24v24H0V0z\" fill=\"none\"/>\n",
              "    <path d=\"M18.56 5.44l.94 2.06.94-2.06 2.06-.94-2.06-.94-.94-2.06-.94 2.06-2.06.94zm-11 1L8.5 8.5l.94-2.06 2.06-.94-2.06-.94L8.5 2.5l-.94 2.06-2.06.94zm10 10l.94 2.06.94-2.06 2.06-.94-2.06-.94-.94-2.06-.94 2.06-2.06.94z\"/><path d=\"M17.41 7.96l-1.37-1.37c-.4-.4-.92-.59-1.43-.59-.52 0-1.04.2-1.43.59L10.3 9.45l-7.72 7.72c-.78.78-.78 2.05 0 2.83L4 21.41c.39.39.9.59 1.41.59.51 0 1.02-.2 1.41-.59l7.78-7.78 2.81-2.81c.8-.78.8-2.07 0-2.86zM5.41 20L4 18.59l7.72-7.72 1.47 1.35L5.41 20z\"/>\n",
              "  </svg>\n",
              "      </button>\n",
              "      \n",
              "  <style>\n",
              "    .colab-df-container {\n",
              "      display:flex;\n",
              "      flex-wrap:wrap;\n",
              "      gap: 12px;\n",
              "    }\n",
              "\n",
              "    .colab-df-convert {\n",
              "      background-color: #E8F0FE;\n",
              "      border: none;\n",
              "      border-radius: 50%;\n",
              "      cursor: pointer;\n",
              "      display: none;\n",
              "      fill: #1967D2;\n",
              "      height: 32px;\n",
              "      padding: 0 0 0 0;\n",
              "      width: 32px;\n",
              "    }\n",
              "\n",
              "    .colab-df-convert:hover {\n",
              "      background-color: #E2EBFA;\n",
              "      box-shadow: 0px 1px 2px rgba(60, 64, 67, 0.3), 0px 1px 3px 1px rgba(60, 64, 67, 0.15);\n",
              "      fill: #174EA6;\n",
              "    }\n",
              "\n",
              "    [theme=dark] .colab-df-convert {\n",
              "      background-color: #3B4455;\n",
              "      fill: #D2E3FC;\n",
              "    }\n",
              "\n",
              "    [theme=dark] .colab-df-convert:hover {\n",
              "      background-color: #434B5C;\n",
              "      box-shadow: 0px 1px 3px 1px rgba(0, 0, 0, 0.15);\n",
              "      filter: drop-shadow(0px 1px 2px rgba(0, 0, 0, 0.3));\n",
              "      fill: #FFFFFF;\n",
              "    }\n",
              "  </style>\n",
              "\n",
              "      <script>\n",
              "        const buttonEl =\n",
              "          document.querySelector('#df-d9320067-669b-48b4-8d76-8e0a83f9711e button.colab-df-convert');\n",
              "        buttonEl.style.display =\n",
              "          google.colab.kernel.accessAllowed ? 'block' : 'none';\n",
              "\n",
              "        async function convertToInteractive(key) {\n",
              "          const element = document.querySelector('#df-d9320067-669b-48b4-8d76-8e0a83f9711e');\n",
              "          const dataTable =\n",
              "            await google.colab.kernel.invokeFunction('convertToInteractive',\n",
              "                                                     [key], {});\n",
              "          if (!dataTable) return;\n",
              "\n",
              "          const docLinkHtml = 'Like what you see? Visit the ' +\n",
              "            '<a target=\"_blank\" href=https://colab.research.google.com/notebooks/data_table.ipynb>data table notebook</a>'\n",
              "            + ' to learn more about interactive tables.';\n",
              "          element.innerHTML = '';\n",
              "          dataTable['output_type'] = 'display_data';\n",
              "          await google.colab.output.renderOutput(dataTable, element);\n",
              "          const docLink = document.createElement('div');\n",
              "          docLink.innerHTML = docLinkHtml;\n",
              "          element.appendChild(docLink);\n",
              "        }\n",
              "      </script>\n",
              "    </div>\n",
              "  </div>\n",
              "  "
            ]
          },
          "metadata": {},
          "execution_count": 22
        }
      ]
    },
    {
      "cell_type": "code",
      "source": [
        "reviews = reviews.drop_duplicates(subset=['title', 'body'], keep='first')"
      ],
      "metadata": {
        "id": "l0DY-66ZpQj0"
      },
      "execution_count": 23,
      "outputs": []
    },
    {
      "cell_type": "code",
      "source": [
        "reviews.shape"
      ],
      "metadata": {
        "colab": {
          "base_uri": "https://localhost:8080/"
        },
        "id": "ALjzYd8KBxAg",
        "outputId": "0709a99b-e866-4d14-da08-f81013dc84c0"
      },
      "execution_count": 24,
      "outputs": [
        {
          "output_type": "execute_result",
          "data": {
            "text/plain": [
              "(72931, 6)"
            ]
          },
          "metadata": {},
          "execution_count": 24
        }
      ]
    },
    {
      "cell_type": "code",
      "source": [
        "#Remove stop words\n",
        "import nltk\n",
        "from nltk.corpus import stopwords\n",
        "\n",
        "nltk.download('stopwords')\n",
        "\n",
        "def remove_stopwords(text):\n",
        "    words = text.split()\n",
        "    filtered_words = [word for word in words if word.lower() not in stopwords.words('english')]\n",
        "    return ' '.join(filtered_words)\n",
        "\n",
        "reviews['title'] = reviews['title'].apply(remove_stopwords)\n",
        "reviews['body'] = reviews['body'].apply(remove_stopwords)"
      ],
      "metadata": {
        "id": "Bsi6I1XOpPDm",
        "colab": {
          "base_uri": "https://localhost:8080/"
        },
        "outputId": "f907e95b-4945-4e53-d387-67cacb78e634"
      },
      "execution_count": 25,
      "outputs": [
        {
          "output_type": "stream",
          "name": "stderr",
          "text": [
            "[nltk_data] Downloading package stopwords to /root/nltk_data...\n",
            "[nltk_data]   Package stopwords is already up-to-date!\n"
          ]
        }
      ]
    },
    {
      "cell_type": "code",
      "source": [
        "#Reference-> https://www.kaggle.com/code/naureenmohammad/nlp-on-disaster-tweet-final\n",
        "from nltk.tokenize import word_tokenize\n",
        "import nltk\n",
        "nltk.download('punkt')\n",
        "abbreviations = pd.read_csv(\"Abbreviations and Slang.csv\")\n",
        "abrevtn_dic = dict(zip(abbreviations.Abbreviations, abbreviations.Text))\n",
        "\n",
        "def abbrev2_word(word):\n",
        "    word= word.lower()\n",
        "    if word in abrevtn_dic.keys():\n",
        "        return abrevtn_dic[word]\n",
        "    else: \n",
        "        return word\n",
        "\n",
        "def abbrev2_text(text):\n",
        "    sentnc = word_tokenize(text)\n",
        "    sentnc = [abbrev2_word(word) for word in sentnc]\n",
        "    text = ' '.join(sentnc)\n",
        "    return text\n",
        "\n",
        "reviews[\"title\"] = reviews[\"title\"].apply(lambda x: abbrev2_text(x))\n",
        "reviews[\"body\"] = reviews[\"body\"].apply(lambda x: abbrev2_text(x))"
      ],
      "metadata": {
        "id": "JM9YA6EunvcI",
        "colab": {
          "base_uri": "https://localhost:8080/"
        },
        "outputId": "13adf007-0e78-4d75-8d1f-e91c02e1cd18"
      },
      "execution_count": 26,
      "outputs": [
        {
          "output_type": "stream",
          "name": "stderr",
          "text": [
            "[nltk_data] Downloading package punkt to /root/nltk_data...\n",
            "[nltk_data]   Package punkt is already up-to-date!\n"
          ]
        }
      ]
    },
    {
      "cell_type": "code",
      "source": [
        "import re\n",
        "pattern = r'(\\w)\\1{3,}'\n",
        "def remove_repeating_chars(text):\n",
        "#replace repeating character with single charater\n",
        "    return re.sub(pattern, r'\\1', text)\n",
        "reviews['title'] = reviews['title'].apply(remove_repeating_chars)\n",
        "reviews['body'] = reviews['body'].apply(remove_repeating_chars)"
      ],
      "metadata": {
        "id": "VItUnZyr_0f7"
      },
      "execution_count": 27,
      "outputs": []
    },
    {
      "cell_type": "code",
      "source": [
        "#remove punctuations\n",
        "import string\n",
        "\n",
        "def remove_punctuation(text):\n",
        "    translator = str.maketrans('', '', string.punctuation)\n",
        "    return text.translate(translator)\n",
        "    \n",
        "reviews['title'] = reviews['title'].apply(remove_punctuation)\n",
        "reviews['body'] = reviews['body'].apply(remove_punctuation)"
      ],
      "metadata": {
        "id": "75tfTOs446Ln"
      },
      "execution_count": 28,
      "outputs": []
    },
    {
      "cell_type": "code",
      "source": [
        "pip install autocorrect"
      ],
      "metadata": {
        "id": "td_dDQQpwR8a"
      },
      "execution_count": null,
      "outputs": []
    },
    {
      "cell_type": "code",
      "source": [
        "#spelling corrections\n",
        "#Reference-> https://dataaspirant.com/nlp-text-preprocessing-techniques-implementation-python/#t-1600077497355\n",
        "from autocorrect import Speller\n",
        "\n",
        "# create an instance of the Speller class for english language\n",
        "spell = Speller(lang='en')\n",
        "\n",
        "def correct_spelling(text):\n",
        "    corrected_words = [spell(word) for word in text.split()]\n",
        "    corrected_text = ' '.join(corrected_words)\n",
        "    return corrected_text\n",
        "\n",
        "reviews['title'] = reviews['title'].apply(correct_spelling)\n",
        "#reviews['body'] = reviews['body'].apply(correct_spelling)"
      ],
      "metadata": {
        "id": "6DuvIWMURTBr"
      },
      "execution_count": null,
      "outputs": []
    },
    {
      "cell_type": "code",
      "source": [
        "reviews['body'] = reviews['body'].apply(correct_spelling)"
      ],
      "metadata": {
        "id": "ZGNoDqa70vPO"
      },
      "execution_count": null,
      "outputs": []
    },
    {
      "cell_type": "code",
      "source": [
        "from nltk.stem import WordNetLemmatizer\n",
        "import nltk\n",
        "nltk.download('wordnet')\n",
        "\n",
        "lemmatizer = WordNetLemmatizer()\n",
        "def lemmatize_text(text):\n",
        "    words = nltk.word_tokenize(text)\n",
        "    lemmatized_words = [lemmatizer.lemmatize(word) for word in words]\n",
        "    return ' '.join(lemmatized_words)\n",
        "    \n",
        "reviews['title'] = reviews['title'].apply(lemmatize_text)\n",
        "reviews['body'] = reviews['body'].apply(lemmatize_text)"
      ],
      "metadata": {
        "id": "NfwMfMZiR6r1",
        "colab": {
          "base_uri": "https://localhost:8080/"
        },
        "outputId": "89542846-41a6-4c45-c662-6bf51355dec1"
      },
      "execution_count": 29,
      "outputs": [
        {
          "output_type": "stream",
          "name": "stderr",
          "text": [
            "[nltk_data] Downloading package wordnet to /root/nltk_data...\n",
            "[nltk_data]   Package wordnet is already up-to-date!\n"
          ]
        }
      ]
    },
    {
      "cell_type": "code",
      "source": [
        "import numpy as np\n",
        "import pandas as pd\n",
        "from keras.preprocessing.text import Tokenizer\n",
        "from keras.utils import pad_sequences\n",
        "from keras.models import Sequential\n",
        "from keras.layers import Dense, LSTM, Embedding, Dropout\n",
        "from sklearn.model_selection import train_test_split"
      ],
      "metadata": {
        "id": "eJthewvWWWgk"
      },
      "execution_count": 30,
      "outputs": []
    },
    {
      "cell_type": "code",
      "source": [
        "from keras.layers import Dense, Embedding, Bidirectional, LSTM\n",
        "# Convert sentiment labels to numerical values\n",
        "reviews['sentiment_num1'] = reviews['sentiment'].map({'Positive': 1, 'Neutral': 0, 'Negative': -1})\n",
        "\n",
        "# Split the dataset into training and testing sets\n",
        "train_data, test_data, train_labels, test_labels = train_test_split(reviews['body'], reviews['sentiment_num1'], test_size=0.2, random_state=42)\n",
        "\n",
        "# Tokenize the text data\n",
        "tokenizer = Tokenizer(num_words=5000)\n",
        "tokenizer.fit_on_texts(train_data)\n",
        "\n",
        "# Convert the text data to sequences\n",
        "train_sequences = tokenizer.texts_to_sequences(train_data)\n",
        "test_sequences = tokenizer.texts_to_sequences(test_data)\n",
        "\n",
        "# Pad the sequences to a fixed length\n",
        "max_length = 100\n",
        "train_data_padded = pad_sequences(train_sequences, maxlen=max_length, padding='post')\n",
        "test_data_padded = pad_sequences(test_sequences, maxlen=max_length, padding='post')\n",
        "\n",
        "# Build the Bidirectional RNN model\n",
        "model = Sequential()\n",
        "model.add(Embedding(input_dim=5000, output_dim=32, input_length=max_length))\n",
        "model.add(Bidirectional(LSTM(32)))\n",
        "model.add(Dense(1, activation='sigmoid'))\n",
        "\n",
        "# Compile the model\n",
        "model.compile(optimizer='adam', loss='binary_crossentropy', metrics=['accuracy'])\n",
        "\n",
        "# Train the model\n",
        "model.fit(train_data_padded, train_labels, epochs=10, batch_size=128)\n",
        "\n",
        "# Evaluate the model on test data\n",
        "test_loss, test_accuracy = model.evaluate(test_data_padded, test_labels)\n",
        "print(\"Test Accuracy: \", test_accuracy)"
      ],
      "metadata": {
        "id": "9H51KaFCxY1-",
        "outputId": "d35d82ac-72cd-4a18-94d6-c163f6b70553",
        "colab": {
          "base_uri": "https://localhost:8080/"
        }
      },
      "execution_count": 39,
      "outputs": [
        {
          "output_type": "stream",
          "name": "stdout",
          "text": [
            "Epoch 1/10\n",
            "456/456 [==============================] - 72s 145ms/step - loss: -1.2606 - accuracy: 0.4526\n",
            "Epoch 2/10\n",
            "456/456 [==============================] - 66s 145ms/step - loss: -5.0241 - accuracy: 0.5209\n",
            "Epoch 3/10\n",
            "456/456 [==============================] - 67s 146ms/step - loss: -10.6706 - accuracy: 0.5597\n",
            "Epoch 4/10\n",
            "456/456 [==============================] - 66s 146ms/step - loss: -17.7235 - accuracy: 0.5851\n",
            "Epoch 5/10\n",
            "456/456 [==============================] - 70s 153ms/step - loss: -23.8600 - accuracy: 0.5872\n",
            "Epoch 6/10\n",
            "456/456 [==============================] - 71s 156ms/step - loss: -28.9106 - accuracy: 0.5859\n",
            "Epoch 7/10\n",
            "456/456 [==============================] - 66s 146ms/step - loss: -33.4857 - accuracy: 0.5786\n",
            "Epoch 8/10\n",
            "456/456 [==============================] - 67s 146ms/step - loss: -39.5236 - accuracy: 0.5750\n",
            "Epoch 9/10\n",
            "456/456 [==============================] - 68s 148ms/step - loss: -44.6820 - accuracy: 0.5645\n",
            "Epoch 10/10\n",
            "456/456 [==============================] - 68s 149ms/step - loss: -46.1833 - accuracy: 0.5142\n",
            "456/456 [==============================] - 9s 19ms/step - loss: -45.3035 - accuracy: 0.5586\n",
            "Test Accuracy:  0.5586481094360352\n"
          ]
        }
      ]
    },
    {
      "cell_type": "code",
      "source": [
        "\n"
      ],
      "metadata": {
        "id": "LvH3AjmUxhnE"
      },
      "execution_count": 64,
      "outputs": []
    },
    {
      "cell_type": "code",
      "source": [],
      "metadata": {
        "id": "gkSEM9_ux5gx"
      },
      "execution_count": null,
      "outputs": []
    }
  ]
}